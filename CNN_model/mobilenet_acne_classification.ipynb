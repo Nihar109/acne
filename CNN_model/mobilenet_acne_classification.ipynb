{
 "cells": [
  {
   "cell_type": "code",
   "execution_count": 1,
   "id": "826d98d4",
   "metadata": {},
   "outputs": [],
   "source": [
    "# import os\n",
    "# os.environ['CUDA_VISIBLE_DEVICES'] = '-1'"
   ]
  },
  {
   "cell_type": "code",
   "execution_count": 19,
   "id": "b99ca43b",
   "metadata": {},
   "outputs": [],
   "source": [
    "import matplotlib.pyplot as plt\n",
    "import numpy as np\n",
    "import os\n",
    "import tensorflow as tf\n",
    "from tensorflow.keras import layers\n",
    "from tensorflow.keras.models import Sequential,Model\n",
    "from tensorflow.keras.layers import Dense,Flatten,Dropout,Concatenate,GlobalAveragePooling2D,Lambda,ZeroPadding2D,SeparableConv2D,BatchNormalization,MaxPooling2D,Conv2D\n",
    "from tensorflow.keras.optimizers import Adam,SGD"
   ]
  },
  {
   "cell_type": "code",
   "execution_count": 20,
   "id": "58b3a648",
   "metadata": {},
   "outputs": [
    {
     "name": "stdout",
     "output_type": "stream",
     "text": [
      "Found 999 files belonging to 3 classes.\n",
      "Using 800 files for training.\n",
      "Found 999 files belonging to 3 classes.\n",
      "Using 199 files for validation.\n"
     ]
    }
   ],
   "source": [
    "data_dir = '/home/webwerks/acne_classification/dataset/'\n",
    "img_height = 300\n",
    "img_width =300\n",
    "batch_size = 24\n",
    "IMG_SIZE = (img_height,img_width)\n",
    "train_ds = tf.keras.utils.image_dataset_from_directory(\n",
    "  data_dir,\n",
    "  validation_split=0.2,\n",
    "  subset=\"training\",\n",
    "  seed=123,\n",
    "  image_size=(img_height, img_width),\n",
    "  label_mode='categorical',\n",
    "  batch_size=batch_size)\n",
    "val_ds = tf.keras.utils.image_dataset_from_directory(\n",
    "  data_dir,\n",
    "  validation_split=0.2,\n",
    "  subset=\"validation\",\n",
    "  seed=123,\n",
    "  label_mode='categorical',\n",
    "  image_size=(img_height, img_width),\n",
    "  batch_size=batch_size)\n"
   ]
  },
  {
   "cell_type": "code",
   "execution_count": 4,
   "id": "b97a53ab",
   "metadata": {},
   "outputs": [],
   "source": [
    "def random_invert_img(x, p=0.5):\n",
    "  if  tf.random.uniform([]) < p:\n",
    "    x = (255-x)\n",
    "  else:\n",
    "    x\n",
    "  return x\n",
    "def random_invert(factor=0.5):\n",
    "  return layers.Lambda(lambda x: random_invert_img(x, factor))\n",
    "\n",
    "class RandomInvert(layers.Layer):\n",
    "  def __init__(self, factor=0.5, **kwargs):\n",
    "    super().__init__(**kwargs)\n",
    "    self.factor = factor\n",
    "\n",
    "  def call(self, x):\n",
    "    return random_invert_img(x)\n",
    "\n",
    "random_invert = random_invert()\n",
    "data_augmentation = tf.keras.Sequential([\n",
    "  layers.RandomFlip(\"horizontal_and_vertical\"),\n",
    "  layers.RandomRotation(0.2),\n",
    "#     RandomInvert()\n",
    "])"
   ]
  },
  {
   "cell_type": "code",
   "execution_count": 5,
   "id": "99ab78aa",
   "metadata": {},
   "outputs": [],
   "source": [
    "preprocess_input = tf.keras.applications.mobilenet_v2.preprocess_input"
   ]
  },
  {
   "cell_type": "code",
   "execution_count": 6,
   "id": "56a37579",
   "metadata": {},
   "outputs": [],
   "source": [
    "rescale = tf.keras.layers.Rescaling(1./127.5, offset=-1)"
   ]
  },
  {
   "cell_type": "code",
   "execution_count": 7,
   "id": "498c0cae",
   "metadata": {},
   "outputs": [],
   "source": [
    "# Create the base model from the pre-trained model MobileNet V2\n",
    "IMG_SHAPE = IMG_SIZE + (3,)\n",
    "base_model = tf.keras.applications.VGG19(input_shape=IMG_SHAPE,\n",
    "                                               include_top=False,\n",
    "                                               weights='imagenet')"
   ]
  },
  {
   "cell_type": "code",
   "execution_count": 8,
   "id": "c84d300f",
   "metadata": {},
   "outputs": [
    {
     "name": "stderr",
     "output_type": "stream",
     "text": [
      "2022-06-09 16:40:13.051832: I tensorflow/stream_executor/cuda/cuda_dnn.cc:368] Loaded cuDNN version 8401\n",
      "2022-06-09 16:40:13.922982: W tensorflow/stream_executor/gpu/asm_compiler.cc:111] *** WARNING *** You are using ptxas 9.1.108, which is older than 11.1. ptxas before 11.1 is known to miscompile XLA code, leading to incorrect results or invalid-address errors.\n",
      "\n",
      "You may not need to update to CUDA 11.1; cherry-picking the ptxas binary is often sufficient.\n",
      "2022-06-09 16:40:13.925220: W tensorflow/stream_executor/gpu/asm_compiler.cc:230] Falling back to the CUDA driver for PTX compilation; ptxas does not support CC 7.5\n",
      "2022-06-09 16:40:13.925244: W tensorflow/stream_executor/gpu/asm_compiler.cc:233] Used ptxas at ptxas\n",
      "2022-06-09 16:40:13.925335: W tensorflow/stream_executor/gpu/redzone_allocator.cc:314] UNIMPLEMENTED: ptxas ptxas too old. Falling back to the driver to compile.\n",
      "Relying on driver to perform ptx compilation. \n",
      "Modify $PATH to customize ptxas location.\n",
      "This message will be only logged once.\n"
     ]
    },
    {
     "name": "stdout",
     "output_type": "stream",
     "text": [
      "(24, 9, 9, 512)\n"
     ]
    }
   ],
   "source": [
    "image_batch, label_batch = next(iter(train_ds))\n",
    "feature_batch = base_model(image_batch)\n",
    "print(feature_batch.shape)"
   ]
  },
  {
   "cell_type": "code",
   "execution_count": 9,
   "id": "177da087",
   "metadata": {},
   "outputs": [],
   "source": [
    "base_model.trainable = False"
   ]
  },
  {
   "cell_type": "code",
   "execution_count": 10,
   "id": "9161ec14",
   "metadata": {},
   "outputs": [
    {
     "name": "stdout",
     "output_type": "stream",
     "text": [
      "Model: \"vgg19\"\n",
      "_________________________________________________________________\n",
      " Layer (type)                Output Shape              Param #   \n",
      "=================================================================\n",
      " input_1 (InputLayer)        [(None, 300, 300, 3)]     0         \n",
      "                                                                 \n",
      " block1_conv1 (Conv2D)       (None, 300, 300, 64)      1792      \n",
      "                                                                 \n",
      " block1_conv2 (Conv2D)       (None, 300, 300, 64)      36928     \n",
      "                                                                 \n",
      " block1_pool (MaxPooling2D)  (None, 150, 150, 64)      0         \n",
      "                                                                 \n",
      " block2_conv1 (Conv2D)       (None, 150, 150, 128)     73856     \n",
      "                                                                 \n",
      " block2_conv2 (Conv2D)       (None, 150, 150, 128)     147584    \n",
      "                                                                 \n",
      " block2_pool (MaxPooling2D)  (None, 75, 75, 128)       0         \n",
      "                                                                 \n",
      " block3_conv1 (Conv2D)       (None, 75, 75, 256)       295168    \n",
      "                                                                 \n",
      " block3_conv2 (Conv2D)       (None, 75, 75, 256)       590080    \n",
      "                                                                 \n",
      " block3_conv3 (Conv2D)       (None, 75, 75, 256)       590080    \n",
      "                                                                 \n",
      " block3_conv4 (Conv2D)       (None, 75, 75, 256)       590080    \n",
      "                                                                 \n",
      " block3_pool (MaxPooling2D)  (None, 37, 37, 256)       0         \n",
      "                                                                 \n",
      " block4_conv1 (Conv2D)       (None, 37, 37, 512)       1180160   \n",
      "                                                                 \n",
      " block4_conv2 (Conv2D)       (None, 37, 37, 512)       2359808   \n",
      "                                                                 \n",
      " block4_conv3 (Conv2D)       (None, 37, 37, 512)       2359808   \n",
      "                                                                 \n",
      " block4_conv4 (Conv2D)       (None, 37, 37, 512)       2359808   \n",
      "                                                                 \n",
      " block4_pool (MaxPooling2D)  (None, 18, 18, 512)       0         \n",
      "                                                                 \n",
      " block5_conv1 (Conv2D)       (None, 18, 18, 512)       2359808   \n",
      "                                                                 \n",
      " block5_conv2 (Conv2D)       (None, 18, 18, 512)       2359808   \n",
      "                                                                 \n",
      " block5_conv3 (Conv2D)       (None, 18, 18, 512)       2359808   \n",
      "                                                                 \n",
      " block5_conv4 (Conv2D)       (None, 18, 18, 512)       2359808   \n",
      "                                                                 \n",
      " block5_pool (MaxPooling2D)  (None, 9, 9, 512)         0         \n",
      "                                                                 \n",
      "=================================================================\n",
      "Total params: 20,024,384\n",
      "Trainable params: 0\n",
      "Non-trainable params: 20,024,384\n",
      "_________________________________________________________________\n"
     ]
    }
   ],
   "source": [
    "# Let's take a look at the base model architecture\n",
    "base_model.summary()"
   ]
  },
  {
   "cell_type": "code",
   "execution_count": 11,
   "id": "7c0f9a09",
   "metadata": {},
   "outputs": [
    {
     "name": "stdout",
     "output_type": "stream",
     "text": [
      "(24, 512)\n"
     ]
    }
   ],
   "source": [
    "global_average_layer = tf.keras.layers.GlobalAveragePooling2D()\n",
    "feature_batch_average = global_average_layer(feature_batch)\n",
    "print(feature_batch_average.shape)"
   ]
  },
  {
   "cell_type": "code",
   "execution_count": 12,
   "id": "09a98ad9",
   "metadata": {},
   "outputs": [
    {
     "name": "stdout",
     "output_type": "stream",
     "text": [
      "(24, 3)\n"
     ]
    }
   ],
   "source": [
    "prediction_layer = tf.keras.layers.Dense(3)\n",
    "prediction_batch = prediction_layer(feature_batch_average)\n",
    "print(prediction_batch.shape)"
   ]
  },
  {
   "cell_type": "code",
   "execution_count": 13,
   "id": "7458a947",
   "metadata": {},
   "outputs": [],
   "source": [
    "inputs = tf.keras.Input(shape=(img_height, img_width, 3))\n",
    "x = data_augmentation(inputs)\n",
    "x = preprocess_input(x)\n",
    "x = base_model(x, training=False)\n",
    "x = global_average_layer(x)\n",
    "x = tf.keras.layers.Dropout(0.2)(x)\n",
    "outputs = prediction_layer(x)\n",
    "model = tf.keras.Model(inputs, outputs)\n",
    "# from tensorflow.keras import layers, models\n",
    "\n",
    "# flatten_layer = layers.Flatten()\n",
    "# dense_layer_1 = layers.Dense(50, activation='relu')\n",
    "# dense_layer_2 = layers.Dense(20, activation='relu')\n",
    "# prediction_layer = layers.Dense(3, activation='softmax')\n",
    "\n",
    "\n",
    "# model = models.Sequential([\n",
    "#     base_model,\n",
    "#     flatten_layer,\n",
    "#     dense_layer_1,\n",
    "#     dense_layer_2,\n",
    "#     prediction_layer\n",
    "# ])\n"
   ]
  },
  {
   "cell_type": "code",
   "execution_count": 14,
   "id": "1840e7bc",
   "metadata": {},
   "outputs": [],
   "source": [
    "base_learning_rate = 0.0001\n",
    "model.compile(optimizer=tf.keras.optimizers.Adam(learning_rate=base_learning_rate),\n",
    "              loss=tf.keras.losses.CategoricalCrossentropy(),\n",
    "              metrics=['accuracy'])"
   ]
  },
  {
   "cell_type": "code",
   "execution_count": 15,
   "id": "9824f8d1",
   "metadata": {},
   "outputs": [
    {
     "name": "stdout",
     "output_type": "stream",
     "text": [
      "9/9 [==============================] - 3s 243ms/step - loss: 1.4189 - accuracy: 0.3819\n"
     ]
    }
   ],
   "source": [
    "initial_epochs = 30\n",
    "\n",
    "loss0, accuracy0 = model.evaluate(val_ds)"
   ]
  },
  {
   "cell_type": "code",
   "execution_count": 16,
   "id": "037b6120",
   "metadata": {},
   "outputs": [
    {
     "name": "stdout",
     "output_type": "stream",
     "text": [
      "Epoch 1/30\n",
      "34/34 [==============================] - 10s 240ms/step - loss: 2.2499 - accuracy: 0.2587 - val_loss: 1.1469 - val_accuracy: 0.1407\n",
      "Epoch 2/30\n",
      "34/34 [==============================] - 8s 220ms/step - loss: 1.9016 - accuracy: 0.2625 - val_loss: 1.0687 - val_accuracy: 0.1206\n",
      "Epoch 3/30\n",
      "34/34 [==============================] - 8s 220ms/step - loss: 1.6550 - accuracy: 0.2313 - val_loss: 1.0520 - val_accuracy: 0.1206\n",
      "Epoch 4/30\n",
      "34/34 [==============================] - 8s 220ms/step - loss: 1.4876 - accuracy: 0.2325 - val_loss: 1.0398 - val_accuracy: 0.1206\n",
      "Epoch 5/30\n",
      "34/34 [==============================] - 8s 222ms/step - loss: 1.6409 - accuracy: 0.2425 - val_loss: 1.0268 - val_accuracy: 0.1256\n",
      "Epoch 6/30\n",
      "34/34 [==============================] - 8s 222ms/step - loss: 1.5966 - accuracy: 0.2325 - val_loss: 1.0166 - val_accuracy: 0.1256\n",
      "Epoch 7/30\n",
      "34/34 [==============================] - 8s 226ms/step - loss: 1.5196 - accuracy: 0.2250 - val_loss: 1.0169 - val_accuracy: 0.1256\n",
      "Epoch 8/30\n",
      "34/34 [==============================] - 8s 224ms/step - loss: 1.4235 - accuracy: 0.1925 - val_loss: 1.0132 - val_accuracy: 0.1256\n",
      "Epoch 9/30\n",
      "34/34 [==============================] - 8s 224ms/step - loss: 1.4509 - accuracy: 0.1863 - val_loss: 1.0090 - val_accuracy: 0.1256\n",
      "Epoch 10/30\n",
      "34/34 [==============================] - 8s 225ms/step - loss: 1.4500 - accuracy: 0.2175 - val_loss: 1.0066 - val_accuracy: 0.1256\n",
      "Epoch 11/30\n",
      "34/34 [==============================] - 8s 225ms/step - loss: 1.4196 - accuracy: 0.1838 - val_loss: 1.0003 - val_accuracy: 0.1256\n",
      "Epoch 12/30\n",
      "34/34 [==============================] - 8s 226ms/step - loss: 1.4881 - accuracy: 0.2175 - val_loss: 0.9981 - val_accuracy: 0.1256\n",
      "Epoch 13/30\n",
      "34/34 [==============================] - 8s 226ms/step - loss: 1.4191 - accuracy: 0.1825 - val_loss: 0.9963 - val_accuracy: 0.1256\n",
      "Epoch 14/30\n",
      "34/34 [==============================] - 8s 226ms/step - loss: 1.3435 - accuracy: 0.1850 - val_loss: 0.9973 - val_accuracy: 0.1256\n",
      "Epoch 15/30\n",
      "34/34 [==============================] - 8s 227ms/step - loss: 1.3100 - accuracy: 0.1912 - val_loss: 0.9961 - val_accuracy: 0.1256\n",
      "Epoch 16/30\n",
      "34/34 [==============================] - 8s 227ms/step - loss: 1.4861 - accuracy: 0.1975 - val_loss: 1.0000 - val_accuracy: 0.1256\n",
      "Epoch 17/30\n",
      "34/34 [==============================] - 8s 227ms/step - loss: 1.4689 - accuracy: 0.1975 - val_loss: 0.9994 - val_accuracy: 0.1256\n",
      "Epoch 18/30\n",
      "34/34 [==============================] - 8s 228ms/step - loss: 1.3549 - accuracy: 0.2000 - val_loss: 0.9975 - val_accuracy: 0.1256\n",
      "Epoch 19/30\n",
      "34/34 [==============================] - 8s 228ms/step - loss: 1.3229 - accuracy: 0.1787 - val_loss: 0.9956 - val_accuracy: 0.1256\n",
      "Epoch 20/30\n",
      "34/34 [==============================] - 8s 228ms/step - loss: 1.3774 - accuracy: 0.2087 - val_loss: 1.0043 - val_accuracy: 0.1256\n",
      "Epoch 21/30\n",
      "34/34 [==============================] - 8s 228ms/step - loss: 1.2508 - accuracy: 0.2062 - val_loss: 1.0049 - val_accuracy: 0.1256\n",
      "Epoch 22/30\n",
      "34/34 [==============================] - 8s 228ms/step - loss: 1.3016 - accuracy: 0.2062 - val_loss: 1.0022 - val_accuracy: 0.1256\n",
      "Epoch 23/30\n",
      "34/34 [==============================] - 8s 229ms/step - loss: 1.2988 - accuracy: 0.1737 - val_loss: 1.0011 - val_accuracy: 0.1256\n",
      "Epoch 24/30\n",
      "34/34 [==============================] - 8s 229ms/step - loss: 1.2240 - accuracy: 0.1925 - val_loss: 1.0004 - val_accuracy: 0.1256\n",
      "Epoch 25/30\n",
      "34/34 [==============================] - 8s 229ms/step - loss: 1.3260 - accuracy: 0.2087 - val_loss: 0.9994 - val_accuracy: 0.1256\n",
      "Epoch 26/30\n",
      "34/34 [==============================] - 8s 229ms/step - loss: 1.2588 - accuracy: 0.1975 - val_loss: 1.0090 - val_accuracy: 0.1256\n",
      "Epoch 27/30\n",
      "34/34 [==============================] - 8s 230ms/step - loss: 1.2500 - accuracy: 0.2087 - val_loss: 1.0105 - val_accuracy: 0.1256\n",
      "Epoch 28/30\n",
      "34/34 [==============================] - 8s 229ms/step - loss: 1.2386 - accuracy: 0.1937 - val_loss: 1.0100 - val_accuracy: 0.1256\n",
      "Epoch 29/30\n",
      "34/34 [==============================] - 8s 229ms/step - loss: 1.1359 - accuracy: 0.1838 - val_loss: 1.0088 - val_accuracy: 0.1256\n",
      "Epoch 30/30\n",
      "34/34 [==============================] - 8s 234ms/step - loss: 1.1643 - accuracy: 0.1750 - val_loss: 1.0074 - val_accuracy: 0.1256\n"
     ]
    }
   ],
   "source": [
    "history = model.fit(train_ds,\n",
    "                    epochs=initial_epochs,\n",
    "                    validation_data=val_ds)"
   ]
  },
  {
   "cell_type": "code",
   "execution_count": 17,
   "id": "727327a7",
   "metadata": {},
   "outputs": [
    {
     "data": {
      "image/png": "[encoded data removed]",
      "text/plain": [
       "<Figure size 576x576 with 2 Axes>"
      ]
     },
     "metadata": {
      "needs_background": "light"
     },
     "output_type": "display_data"
    }
   ],
   "source": [
    "acc = history.history['accuracy']\n",
    "val_acc = history.history['val_accuracy']\n",
    "\n",
    "loss = history.history['loss']\n",
    "val_loss = history.history['val_loss']\n",
    "\n",
    "epochs_range = range(initial_epochs)\n",
    "\n",
    "plt.figure(figsize=(8, 8))\n",
    "plt.subplot(1, 2, 1)\n",
    "plt.plot(epochs_range, acc, label='Training Accuracy')\n",
    "plt.plot(epochs_range, val_acc, label='Validation Accuracy')\n",
    "plt.legend(loc='lower right')\n",
    "plt.title('Training and Validation Accuracy')\n",
    "\n",
    "plt.subplot(1, 2, 2)\n",
    "plt.plot(epochs_range, loss, label='Training Loss')\n",
    "plt.plot(epochs_range, val_loss, label='Validation Loss')\n",
    "plt.legend(loc='upper right')\n",
    "plt.title('Training and Validation Loss')\n",
    "plt.show()"
   ]
  },
  {
   "cell_type": "code",
   "execution_count": 18,
   "id": "a4a50707",
   "metadata": {},
   "outputs": [],
   "source": [
    "model.save(\"acne_classification_vgg19_v2.h5\")"
   ]
  },
  {
   "cell_type": "code",
   "execution_count": null,
   "id": "bd235ab8",
   "metadata": {},
   "outputs": [],
   "source": []
  }
 ],
 "metadata": {
  "kernelspec": {
   "display_name": "Python 3 (ipykernel)",
   "language": "python",
   "name": "python3"
  },
  "language_info": {
   "codemirror_mode": {
    "name": "ipython",
    "version": 3
   },
   "file_extension": ".py",
   "mimetype": "text/x-python",
   "name": "python",
   "nbconvert_exporter": "python",
   "pygments_lexer": "ipython3",
   "version": "3.8.10"
  }
 },
 "nbformat": 4,
 "nbformat_minor": 5
}
